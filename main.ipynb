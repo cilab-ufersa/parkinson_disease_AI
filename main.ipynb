{
 "cells": [
  {
   "cell_type": "code",
   "execution_count": 1,
   "id": "3ce9123c",
   "metadata": {},
   "outputs": [],
   "source": [
    "import numpy as np\n",
    "import pandas as pd\n",
    "from sklearn.ensemble import RandomForestClassifier\n",
    "from sklearn.metrics import accuracy_score\n",
    "from sklearn.model_selection import train_test_split, KFold\n",
    "# X ; Y; Z; Pressure; GripAngle; Timestamp; Test ID\n",
    "from sklearn.neighbors import KNeighborsClassifier\n",
    "from sklearn.tree import DecisionTreeClassifier\n",
    "\n",
    "from Utils import createFeatures, listPeopleArticle"
   ]
  },
  {
   "cell_type": "code",
   "execution_count": 2,
   "id": "44dbe68b",
   "metadata": {},
   "outputs": [],
   "source": [
    "path_control = [\n",
    "    'data_motion/hw_dataset/control/C_0001.txt',\n",
    "    'data_motion/hw_dataset/control/C_0002.txt',\n",
    "    'data_motion/hw_dataset/control/C_0003.txt',\n",
    "    'data_motion/hw_dataset/control/C_0004.txt',\n",
    "    'data_motion/hw_dataset/control/C_0005.txt',\n",
    "    'data_motion/hw_dataset/control/C_0006.txt',\n",
    "    'data_motion/hw_dataset/control/C_0007.txt',\n",
    "    'data_motion/hw_dataset/control/C_0008.txt',\n",
    "    'data_motion/hw_dataset/control/C_0009.txt',\n",
    "    'data_motion/hw_dataset/control/C_0010.txt',\n",
    "    'data_motion/hw_dataset/control/C_0011.txt',\n",
    "    'data_motion/hw_dataset/control/C_0012.txt',\n",
    "    'data_motion/hw_dataset/control/C_0013.txt',\n",
    "    'data_motion/hw_dataset/control/C_0014.txt',\n",
    "    'data_motion/hw_dataset/control/C_0015.txt'\n",
    "]\n"
   ]
  },
  {
   "cell_type": "code",
   "execution_count": 3,
   "id": "dcf12e1f",
   "metadata": {},
   "outputs": [],
   "source": [
    "path_parkinson = [\n",
    "    'data_motion/hw_dataset/parkinson/P_02100001.txt',\n",
    "    'data_motion/hw_dataset/parkinson/P_02100002.txt',\n",
    "    'data_motion/hw_dataset/parkinson/P_05060003.txt',\n",
    "    'data_motion/hw_dataset/parkinson/P_05060004.txt',\n",
    "    'data_motion/hw_dataset/parkinson/P_09100001.txt',\n",
    "    'data_motion/hw_dataset/parkinson/P_09100003.txt',\n",
    "    'data_motion/hw_dataset/parkinson/P_09100005.txt',\n",
    "    'data_motion/hw_dataset/parkinson/P_11120003.txt',\n",
    "    'data_motion/hw_dataset/parkinson/P_11120004.txt',\n",
    "    'data_motion/hw_dataset/parkinson/P_11120005.txt',\n",
    "    'data_motion/hw_dataset/parkinson/P_12060001.txt',\n",
    "    'data_motion/hw_dataset/parkinson/P_12060002.txt',\n",
    "    'data_motion/hw_dataset/parkinson/P_16100003.txt',\n",
    "    'data_motion/hw_dataset/parkinson/P_16100004.txt',\n",
    "    'data_motion/hw_dataset/parkinson/P_23100002.txt',\n",
    "    'data_motion/hw_dataset/parkinson/P_23100003.txt',\n",
    "    'data_motion/hw_dataset/parkinson/P_26060001.txt',\n",
    "    'data_motion/hw_dataset/parkinson/P_26060002.txt',\n",
    "    'data_motion/hw_dataset/parkinson/P_26060003.txt',\n",
    "    'data_motion/hw_dataset/parkinson/P_26060006.txt',\n",
    "    'data_motion/hw_dataset/parkinson/P_26060007.txt',\n",
    "    'data_motion/hw_dataset/parkinson/P_27110001.txt',\n",
    "    'data_motion/hw_dataset/parkinson/P_27110003.txt',\n",
    "    'data_motion/hw_dataset/parkinson/P_30100001.txt',\n",
    "    'data_motion/hw_dataset/parkinson/P_30100002.txt',\n",
    "    'data_motion/new_dataset/parkinson/H_P000-0001.txt',\n",
    "    'data_motion/new_dataset/parkinson/H_P000-0002.txt',\n",
    "    'data_motion/new_dataset/parkinson/H_P000-0003.txt',\n",
    "    'data_motion/new_dataset/parkinson/H_P000-0004.txt',\n",
    "    'data_motion/new_dataset/parkinson/H_P000-0007.txt',\n",
    "    'data_motion/new_dataset/parkinson/H_P000-0008.txt',\n",
    "    'data_motion/new_dataset/parkinson/H_p000-0010.txt',\n",
    "    'data_motion/new_dataset/parkinson/H_P000-0011.txt',\n",
    "    'data_motion/new_dataset/parkinson/H_P000-0012.txt',\n",
    "    'data_motion/new_dataset/parkinson/H_P000-0013.txt',\n",
    "    'data_motion/new_dataset/parkinson/H_P000-0014.txt',\n",
    "    'data_motion/new_dataset/parkinson/H_P000-0015.txt',\n",
    "    'data_motion/new_dataset/parkinson/H_P000-0016.txt',\n",
    "    'data_motion/new_dataset/parkinson/H_p000-0017.txt',\n",
    "    'data_motion/new_dataset/parkinson/H_p000-0018.txt',\n",
    "    'data_motion/new_dataset/parkinson/H_P000-0019.txt',\n",
    "    'data_motion/new_dataset/parkinson/H_P000-0020.txt',\n",
    "    'data_motion/new_dataset/parkinson/H_P000-0021.txt',\n",
    "    'data_motion/new_dataset/parkinson/H_P000-0022.txt',\n",
    "    'data_motion/new_dataset/parkinson/H_P000-0023.txt',\n",
    "    'data_motion/new_dataset/parkinson/H_P000-0024.txt',\n",
    "    'data_motion/new_dataset/parkinson/H_P000-0025.txt',\n",
    "    'data_motion/new_dataset/parkinson/H_p000-0028.txt',\n",
    "    'data_motion/new_dataset/parkinson/H_P000-0029.txt',\n",
    "    'data_motion/new_dataset/parkinson/H_P000-0030.txt',\n",
    "    'data_motion/new_dataset/parkinson/H_P000-0031.txt',\n",
    "    'data_motion/new_dataset/parkinson/H_P000-0032.txt',\n",
    "    'data_motion/new_dataset/parkinson/H_P000-0033.txt',\n",
    "    'data_motion/new_dataset/parkinson/H_P000-0034.txt',\n",
    "    'data_motion/new_dataset/parkinson/H_P000-0035.txt',\n",
    "    'data_motion/new_dataset/parkinson/H_P000-0036.txt',\n",
    "    'data_motion/new_dataset/parkinson/H_P000-0037.txt',\n",
    "    'data_motion/new_dataset/parkinson/H_P000-0039.txt',\n",
    "    'data_motion/new_dataset/parkinson/H_P000-0040.txt',\n",
    "    'data_motion/new_dataset/parkinson/H_p000-0041.txt',\n",
    "    'data_motion/new_dataset/parkinson/H_p000-0042.txt',\n",
    "    'data_motion/new_dataset/parkinson/H_p000-0043.txt'\n",
    "]"
   ]
  },
  {
   "cell_type": "code",
   "execution_count": 4,
   "id": "fbbb1886",
   "metadata": {},
   "outputs": [],
   "source": [
    "Fs = 133"
   ]
  },
  {
   "cell_type": "code",
   "execution_count": 5,
   "id": "a5c45b3a",
   "metadata": {},
   "outputs": [],
   "source": [
    "listControl_0 = listPeopleArticle(path_control, Fs, 0)\n",
    "listParkinson_0 = listPeopleArticle(path_parkinson, Fs, 0)\n",
    "listControl_1 = listPeopleArticle(path_control, Fs, 1)\n",
    "listParkinson_1 = listPeopleArticle(path_parkinson, Fs, 1)\n",
    "listControl_2 = listPeopleArticle(path_control, Fs, 2)\n",
    "listParkinson_2 = listPeopleArticle(path_parkinson, Fs, 2)"
   ]
  },
  {
   "cell_type": "code",
   "execution_count": 6,
   "id": "667792e4",
   "metadata": {},
   "outputs": [],
   "source": [
    "listControl_0, controlDiagnoses_0 = createFeatures(listControl_0, 0, 0)\n",
    "listParkinson_0, parkinsonDiagnoses_0 = createFeatures(listParkinson_0, 1, 0)\n",
    "listControl_1, controlDiagnoses_1 = createFeatures(listControl_1, 0, 1)\n",
    "listParkinson_1, parkinsonDiagnoses_1 = createFeatures(listParkinson_1, 1, 1)\n",
    "listControl_2, controlDiagnoses_2 = createFeatures(listControl_2, 0, 2)\n",
    "listParkinson_2, parkinsonDiagnoses_2 = createFeatures(listParkinson_2, 1, 2)"
   ]
  },
  {
   "cell_type": "code",
   "execution_count": 7,
   "id": "cda8ffcd",
   "metadata": {},
   "outputs": [
    {
     "name": "stdout",
     "output_type": "stream",
     "text": [
      "Número de pessoas saudáveis no TestID 0: 15\n",
      "Número de pessoas saudáveis no TestID 1: 15\n",
      "Número de pessoas saudáveis no TestID 2: 7\n",
      "Número de pessoas saudáveis no total: 37\n"
     ]
    }
   ],
   "source": [
    "print(f\"Número de pessoas saudáveis no TestID 0: {listControl_0.shape[0]}\")\n",
    "print(f\"Número de pessoas saudáveis no TestID 1: {listControl_1.shape[0]}\")\n",
    "print(f\"Número de pessoas saudáveis no TestID 2: {listControl_2.shape[0]}\")\n",
    "print(f\"Número de pessoas saudáveis no total: {listControl_0.shape[0]+listControl_1.shape[0]+listControl_2.shape[0]}\")"
   ]
  },
  {
   "cell_type": "code",
   "execution_count": 8,
   "id": "b6d4ca9b",
   "metadata": {},
   "outputs": [
    {
     "name": "stdout",
     "output_type": "stream",
     "text": [
      "Número de pessoas com Parkinson no TestID 0: 61\n",
      "Número de pessoas com Parkinson no TestID 1: 57\n",
      "Número de pessoas com Parkinson no TestID 2: 47\n",
      "Número de pessoas com Parkinson no total: 165\n"
     ]
    }
   ],
   "source": [
    "print(f\"Número de pessoas com Parkinson no TestID 0: {listParkinson_0.shape[0]}\")\n",
    "print(f\"Número de pessoas com Parkinson no TestID 1: {listParkinson_1.shape[0]}\")\n",
    "print(f\"Número de pessoas com Parkinson no TestID 2: {listParkinson_2.shape[0]}\")\n",
    "print(f\"Número de pessoas com Parkinson no total: {listParkinson_0.shape[0]+listParkinson_1.shape[0]+listParkinson_2.shape[0]}\")"
   ]
  },
  {
   "cell_type": "code",
   "execution_count": 9,
   "id": "395b6e40",
   "metadata": {},
   "outputs": [],
   "source": [
    "listPerson = pd.concat([listControl_0, listParkinson_0,listControl_1,listParkinson_1,listControl_2,listParkinson_2])\n",
    "listDiagnoses = np.concatenate([controlDiagnoses_0, parkinsonDiagnoses_0,controlDiagnoses_1,parkinsonDiagnoses_1,controlDiagnoses_2, parkinsonDiagnoses_2])"
   ]
  },
  {
   "cell_type": "code",
   "execution_count": 10,
   "id": "de37d6c5",
   "metadata": {},
   "outputs": [
    {
     "data": {
      "text/html": [
       "<div>\n",
       "<style scoped>\n",
       "    .dataframe tbody tr th:only-of-type {\n",
       "        vertical-align: middle;\n",
       "    }\n",
       "\n",
       "    .dataframe tbody tr th {\n",
       "        vertical-align: top;\n",
       "    }\n",
       "\n",
       "    .dataframe thead th {\n",
       "        text-align: right;\n",
       "    }\n",
       "</style>\n",
       "<table border=\"1\" class=\"dataframe\">\n",
       "  <thead>\n",
       "    <tr style=\"text-align: right;\">\n",
       "      <th></th>\n",
       "      <th>velocityWeighted</th>\n",
       "      <th>pressureWeighted</th>\n",
       "      <th>CISP</th>\n",
       "    </tr>\n",
       "  </thead>\n",
       "  <tbody>\n",
       "    <tr>\n",
       "      <th>0</th>\n",
       "      <td>166.545769</td>\n",
       "      <td>898.051761</td>\n",
       "      <td>149566.721125</td>\n",
       "    </tr>\n",
       "    <tr>\n",
       "      <th>1</th>\n",
       "      <td>148.699103</td>\n",
       "      <td>793.014769</td>\n",
       "      <td>117920.585005</td>\n",
       "    </tr>\n",
       "    <tr>\n",
       "      <th>2</th>\n",
       "      <td>147.285197</td>\n",
       "      <td>850.331795</td>\n",
       "      <td>125241.286024</td>\n",
       "    </tr>\n",
       "    <tr>\n",
       "      <th>3</th>\n",
       "      <td>152.507921</td>\n",
       "      <td>897.886052</td>\n",
       "      <td>136934.734786</td>\n",
       "    </tr>\n",
       "    <tr>\n",
       "      <th>4</th>\n",
       "      <td>188.952987</td>\n",
       "      <td>935.801218</td>\n",
       "      <td>176822.435308</td>\n",
       "    </tr>\n",
       "    <tr>\n",
       "      <th>5</th>\n",
       "      <td>161.384234</td>\n",
       "      <td>848.482579</td>\n",
       "      <td>136931.711421</td>\n",
       "    </tr>\n",
       "    <tr>\n",
       "      <th>6</th>\n",
       "      <td>166.894042</td>\n",
       "      <td>896.585507</td>\n",
       "      <td>149634.779464</td>\n",
       "    </tr>\n",
       "    <tr>\n",
       "      <th>7</th>\n",
       "      <td>142.210509</td>\n",
       "      <td>629.639447</td>\n",
       "      <td>89541.346106</td>\n",
       "    </tr>\n",
       "    <tr>\n",
       "      <th>8</th>\n",
       "      <td>139.259830</td>\n",
       "      <td>744.507491</td>\n",
       "      <td>103679.986990</td>\n",
       "    </tr>\n",
       "    <tr>\n",
       "      <th>9</th>\n",
       "      <td>142.807156</td>\n",
       "      <td>877.717556</td>\n",
       "      <td>125344.347575</td>\n",
       "    </tr>\n",
       "  </tbody>\n",
       "</table>\n",
       "</div>"
      ],
      "text/plain": [
       "   velocityWeighted  pressureWeighted           CISP\n",
       "0        166.545769        898.051761  149566.721125\n",
       "1        148.699103        793.014769  117920.585005\n",
       "2        147.285197        850.331795  125241.286024\n",
       "3        152.507921        897.886052  136934.734786\n",
       "4        188.952987        935.801218  176822.435308\n",
       "5        161.384234        848.482579  136931.711421\n",
       "6        166.894042        896.585507  149634.779464\n",
       "7        142.210509        629.639447   89541.346106\n",
       "8        139.259830        744.507491  103679.986990\n",
       "9        142.807156        877.717556  125344.347575"
      ]
     },
     "execution_count": 10,
     "metadata": {},
     "output_type": "execute_result"
    }
   ],
   "source": [
    "listPerson.head(10)"
   ]
  },
  {
   "cell_type": "code",
   "execution_count": 11,
   "id": "a1c02542",
   "metadata": {},
   "outputs": [],
   "source": [
    "knnc = KNeighborsClassifier()\n",
    "cartc = DecisionTreeClassifier()\n",
    "rfc = RandomForestClassifier()"
   ]
  },
  {
   "cell_type": "code",
   "execution_count": 12,
   "id": "04bbfb47",
   "metadata": {},
   "outputs": [],
   "source": [
    "#n_splits = len(listPerson)\n",
    "n_splits = 10"
   ]
  },
  {
   "cell_type": "code",
   "execution_count": 13,
   "id": "29f51c24",
   "metadata": {},
   "outputs": [],
   "source": [
    "kf = KFold(n_splits=n_splits,shuffle=True)"
   ]
  },
  {
   "cell_type": "code",
   "execution_count": 14,
   "id": "3ef8fe49",
   "metadata": {},
   "outputs": [
    {
     "data": {
      "text/plain": [
       "10"
      ]
     },
     "execution_count": 14,
     "metadata": {},
     "output_type": "execute_result"
    }
   ],
   "source": [
    "kf.get_n_splits()"
   ]
  },
  {
   "cell_type": "code",
   "execution_count": 15,
   "id": "eabda60c",
   "metadata": {},
   "outputs": [],
   "source": [
    "TP_TN_FP_FN = np.zeros((3,4))\n",
    "\n",
    "\n",
    "for train_index, test_index in kf.split(listPerson,y=listDiagnoses):\n",
    "    #print(\"TRAIN:\", train_index, \"TEST:\", test_index)\n",
    "    x_train, x_test = listPerson.iloc[train_index], listPerson.iloc[test_index]\n",
    "    y_train, y_test = listDiagnoses[train_index], listDiagnoses[test_index]\n",
    "    \n",
    "    \n",
    "    \n",
    "    knnc_trained = knnc.fit(x_train, y_train)\n",
    "    cartc_trained = cartc.fit(x_train, y_train)\n",
    "    rfc_trained = rfc.fit(x_train, y_train)\n",
    "    \n",
    "    \n",
    "    \n",
    "    modelsc = [knnc_trained, cartc_trained, rfc_trained]\n",
    "\n",
    "    j = 0\n",
    "    for model in modelsc:\n",
    "        predict = model.predict(x_test)\n",
    "        \n",
    "        for i in range(y_test.shape[0]):\n",
    "            if y_test[i] == 0 and predict[i] == 0:\n",
    "                TP_TN_FP_FN[j][1] +=1\n",
    "            elif y_test[i] == 1 and predict[i] == 1:\n",
    "                TP_TN_FP_FN[j][0] +=1\n",
    "            elif y_test[i] == 1 and predict[i] == 0:\n",
    "                TP_TN_FP_FN[j][3] +=1\n",
    "            elif y_test[i] == 0 and predict[i] == 1:\n",
    "                TP_TN_FP_FN[j][2] +=1\n",
    "        j+=1\n",
    "        #acc.append((TP+TN)/(TP+TN+FN+FP)*100)\n",
    "        #sens.append((TP)/(TP+FN)*100)\n",
    "        #esp.append((TN)/(TN+FP)*100)\n",
    "    \n"
   ]
  },
  {
   "cell_type": "code",
   "execution_count": 16,
   "id": "82d51bda",
   "metadata": {},
   "outputs": [
    {
     "data": {
      "text/plain": [
       "array([[155.,  14.,  23.,  10.],\n",
       "       [150.,  24.,  13.,  15.],\n",
       "       [156.,  23.,  14.,   9.]])"
      ]
     },
     "execution_count": 16,
     "metadata": {},
     "output_type": "execute_result"
    }
   ],
   "source": [
    "TP_TN_FP_FN"
   ]
  },
  {
   "cell_type": "code",
   "execution_count": 17,
   "id": "d7c17980",
   "metadata": {},
   "outputs": [],
   "source": [
    "acc = np.empty(3)\n",
    "sens = np.empty(3)\n",
    "esp = np.empty(3)\n",
    "for i in range(3):\n",
    "    TP,TN,FP,FN = TP_TN_FP_FN[i]\n",
    "    acc[i] = ((TP+TN)/(TP+TN+FN+FP)*100)\n",
    "    sens[i] = ((TP)/(TP+FN)*100)\n",
    "    esp[i] = ((TN)/(TN+FP)*100)"
   ]
  },
  {
   "cell_type": "code",
   "execution_count": 18,
   "id": "601da172",
   "metadata": {},
   "outputs": [
    {
     "data": {
      "text/plain": [
       "(array([83.66336634, 86.13861386, 88.61386139]),\n",
       " array([93.93939394, 90.90909091, 94.54545455]),\n",
       " array([37.83783784, 64.86486486, 62.16216216]))"
      ]
     },
     "execution_count": 18,
     "metadata": {},
     "output_type": "execute_result"
    }
   ],
   "source": [
    "acc,sens,esp"
   ]
  },
  {
   "cell_type": "code",
   "execution_count": 19,
   "id": "7a027152",
   "metadata": {},
   "outputs": [
    {
     "name": "stdout",
     "output_type": "stream",
     "text": [
      "KNN sua acurácia é de 83.66%\n",
      "DecisionTree sua acurácia é de 86.14%\n",
      "RandomForest sua acurácia é de 88.61%\n",
      "KNN sua sensibilidade é de 93.94%\n",
      "DecisionTree sua sensibilidade é de 90.91%\n",
      "RandomForest sua sensibilidade é de 94.55%\n",
      "KNN sua especificidade é de 37.84%\n",
      "DecisionTree sua especificidade é de 64.86%\n",
      "RandomForest sua especificidade é de 62.16%\n"
     ]
    }
   ],
   "source": [
    "mod = ['KNN','DecisionTree','RandomForest']\n",
    "nam = ['acurácia','sensibilidade','especificidade']\n",
    "for i in range(3):\n",
    "    print(f'{mod[i]} sua {nam[0]} é de {np.round(acc[i],2)}%')\n",
    "for i in range(3):\n",
    "    print(f'{mod[i]} sua {nam[1]} é de {np.round(sens[i],2)}%')\n",
    "for i in range(3):\n",
    "    print(f'{mod[i]} sua {nam[2]} é de {np.round(esp[i],2)}%')"
   ]
  },
  {
   "cell_type": "code",
   "execution_count": null,
   "id": "4f3d9aa3",
   "metadata": {},
   "outputs": [],
   "source": []
  }
 ],
 "metadata": {
  "kernelspec": {
   "display_name": "Python 3 (ipykernel)",
   "language": "python",
   "name": "python3"
  },
  "language_info": {
   "codemirror_mode": {
    "name": "ipython",
    "version": 3
   },
   "file_extension": ".py",
   "mimetype": "text/x-python",
   "name": "python",
   "nbconvert_exporter": "python",
   "pygments_lexer": "ipython3",
   "version": "3.10.4"
  }
 },
 "nbformat": 4,
 "nbformat_minor": 5
}
