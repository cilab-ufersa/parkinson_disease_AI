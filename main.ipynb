{
 "cells": [
  {
   "cell_type": "markdown",
   "id": "71cf3324",
   "metadata": {},
   "source": [
    "# 1. Importing Libraries"
   ]
  },
  {
   "cell_type": "code",
   "execution_count": 1,
   "id": "3ce9123c",
   "metadata": {},
   "outputs": [],
   "source": [
    "import numpy as np\n",
    "import pandas as pd\n",
    "import matplotlib.pyplot as plt\n",
    "from sklearn.ensemble import RandomForestClassifier\n",
    "from sklearn.metrics import accuracy_score, confusion_matrix, ConfusionMatrixDisplay\n",
    "from sklearn.model_selection import train_test_split, KFold, GridSearchCV\n",
    "# X ; Y; Z; Pressure; GripAngle; Timestamp; Test ID\n",
    "from sklearn.neighbors import KNeighborsClassifier\n",
    "from sklearn.tree import DecisionTreeClassifier\n",
    "from sklearn import svm\n",
    "\n",
    "from sklearn.preprocessing import StandardScaler\n",
    "from sklearn.datasets import make_classification\n",
    "from imblearn.over_sampling import RandomOverSampler\n",
    "\n",
    "import matplotlib.pyplot as plt\n",
    "from sklearn.model_selection import learning_curve\n",
    "\n",
    "import os\n",
    "\n",
    "from Utils import createFeatures, listPeopleArticle"
   ]
  },
  {
   "cell_type": "markdown",
   "id": "11a4b09a",
   "metadata": {},
   "source": [
    "# 2. Loading the Data Set"
   ]
  },
  {
   "cell_type": "code",
   "execution_count": 2,
   "id": "44dbe68b",
   "metadata": {},
   "outputs": [],
   "source": [
    "'''path = r\"data_motion/hw_dataset/control/\"\n",
    "\n",
    "for list in os.walk(path):\n",
    "    path_control = list'''\n",
    "\n",
    "path_control = [\n",
    "    'data_motion/hw_dataset/control/C_0001.txt',\n",
    "    'data_motion/hw_dataset/control/C_0002.txt',\n",
    "    'data_motion/hw_dataset/control/C_0003.txt',\n",
    "    'data_motion/hw_dataset/control/C_0004.txt',\n",
    "    'data_motion/hw_dataset/control/C_0005.txt',\n",
    "    'data_motion/hw_dataset/control/C_0006.txt',\n",
    "    'data_motion/hw_dataset/control/C_0007.txt',\n",
    "    'data_motion/hw_dataset/control/C_0008.txt',\n",
    "    'data_motion/hw_dataset/control/C_0009.txt',\n",
    "    'data_motion/hw_dataset/control/C_0010.txt',\n",
    "    'data_motion/hw_dataset/control/C_0011.txt',\n",
    "    'data_motion/hw_dataset/control/C_0012.txt',\n",
    "    'data_motion/hw_dataset/control/C_0013.txt',\n",
    "    'data_motion/hw_dataset/control/C_0014.txt',\n",
    "    'data_motion/hw_dataset/control/C_0015.txt'\n",
    "]"
   ]
  },
  {
   "cell_type": "code",
   "execution_count": 3,
   "id": "dcf12e1f",
   "metadata": {},
   "outputs": [],
   "source": [
    "'''path = r\"data_motion/hw_dataset/parkinson/\"\n",
    "\n",
    "for list in os.walk(path):\n",
    "    path_parkinson = [list]\n",
    "\n",
    "path = r\"data_motion/new_dataset/parkinson/\"\n",
    "\n",
    "for list in os.walk(path):\n",
    "    path_parkinson = list'''\n",
    "\n",
    "path_parkinson = [\n",
    "    'data_motion/hw_dataset/parkinson/P_02100001.txt',\n",
    "    'data_motion/hw_dataset/parkinson/P_02100002.txt',\n",
    "    'data_motion/hw_dataset/parkinson/P_05060003.txt',\n",
    "    'data_motion/hw_dataset/parkinson/P_05060004.txt',\n",
    "    'data_motion/hw_dataset/parkinson/P_09100001.txt',\n",
    "    'data_motion/hw_dataset/parkinson/P_09100003.txt',\n",
    "    'data_motion/hw_dataset/parkinson/P_09100005.txt',\n",
    "    'data_motion/hw_dataset/parkinson/P_11120003.txt',\n",
    "    'data_motion/hw_dataset/parkinson/P_11120004.txt',\n",
    "    'data_motion/hw_dataset/parkinson/P_11120005.txt',\n",
    "    'data_motion/hw_dataset/parkinson/P_12060001.txt',\n",
    "    'data_motion/hw_dataset/parkinson/P_12060002.txt',\n",
    "    'data_motion/hw_dataset/parkinson/P_16100003.txt',\n",
    "    'data_motion/hw_dataset/parkinson/P_16100004.txt',\n",
    "    'data_motion/hw_dataset/parkinson/P_23100002.txt',\n",
    "    'data_motion/hw_dataset/parkinson/P_23100003.txt',\n",
    "    'data_motion/hw_dataset/parkinson/P_26060001.txt',\n",
    "    'data_motion/hw_dataset/parkinson/P_26060002.txt',\n",
    "    'data_motion/hw_dataset/parkinson/P_26060003.txt',\n",
    "    'data_motion/hw_dataset/parkinson/P_26060006.txt',\n",
    "    'data_motion/hw_dataset/parkinson/P_26060007.txt',\n",
    "    'data_motion/hw_dataset/parkinson/P_27110001.txt',\n",
    "    'data_motion/hw_dataset/parkinson/P_27110003.txt',\n",
    "    'data_motion/hw_dataset/parkinson/P_30100001.txt',\n",
    "    'data_motion/hw_dataset/parkinson/P_30100002.txt',\n",
    "    'data_motion/new_dataset/parkinson/H_P000-0001.txt',\n",
    "    'data_motion/new_dataset/parkinson/H_P000-0002.txt',\n",
    "    'data_motion/new_dataset/parkinson/H_P000-0003.txt',\n",
    "    'data_motion/new_dataset/parkinson/H_P000-0004.txt',\n",
    "    'data_motion/new_dataset/parkinson/H_P000-0007.txt',\n",
    "    'data_motion/new_dataset/parkinson/H_P000-0008.txt',\n",
    "    'data_motion/new_dataset/parkinson/H_p000-0010.txt',\n",
    "    'data_motion/new_dataset/parkinson/H_P000-0011.txt',\n",
    "    'data_motion/new_dataset/parkinson/H_P000-0012.txt',\n",
    "    'data_motion/new_dataset/parkinson/H_P000-0013.txt',\n",
    "    'data_motion/new_dataset/parkinson/H_P000-0014.txt',\n",
    "    'data_motion/new_dataset/parkinson/H_P000-0015.txt',\n",
    "    'data_motion/new_dataset/parkinson/H_P000-0016.txt',\n",
    "    'data_motion/new_dataset/parkinson/H_p000-0017.txt',\n",
    "    'data_motion/new_dataset/parkinson/H_p000-0018.txt',\n",
    "    'data_motion/new_dataset/parkinson/H_P000-0019.txt',\n",
    "    'data_motion/new_dataset/parkinson/H_P000-0020.txt',\n",
    "    'data_motion/new_dataset/parkinson/H_P000-0021.txt',\n",
    "    'data_motion/new_dataset/parkinson/H_P000-0022.txt',\n",
    "    'data_motion/new_dataset/parkinson/H_P000-0023.txt',\n",
    "    'data_motion/new_dataset/parkinson/H_P000-0024.txt',\n",
    "    'data_motion/new_dataset/parkinson/H_P000-0025.txt',\n",
    "    'data_motion/new_dataset/parkinson/H_p000-0028.txt',\n",
    "    'data_motion/new_dataset/parkinson/H_P000-0029.txt',\n",
    "    'data_motion/new_dataset/parkinson/H_P000-0030.txt',\n",
    "    'data_motion/new_dataset/parkinson/H_P000-0031.txt',\n",
    "    'data_motion/new_dataset/parkinson/H_P000-0032.txt',\n",
    "    'data_motion/new_dataset/parkinson/H_P000-0033.txt',\n",
    "    'data_motion/new_dataset/parkinson/H_P000-0034.txt',\n",
    "    'data_motion/new_dataset/parkinson/H_P000-0035.txt',\n",
    "    'data_motion/new_dataset/parkinson/H_P000-0036.txt',\n",
    "    'data_motion/new_dataset/parkinson/H_P000-0037.txt',\n",
    "    'data_motion/new_dataset/parkinson/H_P000-0039.txt',\n",
    "    'data_motion/new_dataset/parkinson/H_P000-0040.txt',\n",
    "    'data_motion/new_dataset/parkinson/H_p000-0041.txt',\n",
    "    'data_motion/new_dataset/parkinson/H_p000-0042.txt',\n",
    "    'data_motion/new_dataset/parkinson/H_p000-0043.txt'\n",
    "]"
   ]
  },
  {
   "cell_type": "markdown",
   "id": "50b833ee",
   "metadata": {},
   "source": [
    "# 3. Computing Features"
   ]
  },
  {
   "cell_type": "code",
   "execution_count": 4,
   "id": "fbbb1886",
   "metadata": {},
   "outputs": [],
   "source": [
    "Fs = 133"
   ]
  },
  {
   "cell_type": "code",
   "execution_count": 5,
   "id": "a5c45b3a",
   "metadata": {},
   "outputs": [],
   "source": [
    "listControl_0 = listPeopleArticle(path_control, Fs, 0)\n",
    "listParkinson_0 = listPeopleArticle(path_parkinson, Fs, 0)\n",
    "listControl_1 = listPeopleArticle(path_control, Fs, 1)\n",
    "listParkinson_1 = listPeopleArticle(path_parkinson, Fs, 1)\n",
    "listControl_2 = listPeopleArticle(path_control, Fs, 2)\n",
    "listParkinson_2 = listPeopleArticle(path_parkinson, Fs, 2)"
   ]
  },
  {
   "cell_type": "code",
   "execution_count": 6,
   "id": "667792e4",
   "metadata": {},
   "outputs": [],
   "source": [
    "listControl_0, controlDiagnoses_0 = createFeatures(listControl_0, 0)\n",
    "listParkinson_0, parkinsonDiagnoses_0 = createFeatures(listParkinson_0, 1)\n",
    "listControl_1, controlDiagnoses_1 = createFeatures(listControl_1, 0)\n",
    "listParkinson_1, parkinsonDiagnoses_1 = createFeatures(listParkinson_1, 1)\n",
    "listControl_2, controlDiagnoses_2 = createFeatures(listControl_2, 0)\n",
    "listParkinson_2, parkinsonDiagnoses_2 = createFeatures(listParkinson_2, 1)"
   ]
  },
  {
   "cell_type": "markdown",
   "id": "a9b2ecef",
   "metadata": {},
   "source": [
    "# 4. Visualizing the Data Info"
   ]
  },
  {
   "cell_type": "code",
   "execution_count": 7,
   "id": "cda8ffcd",
   "metadata": {},
   "outputs": [
    {
     "name": "stdout",
     "output_type": "stream",
     "text": [
      "Número de pessoas saudáveis no TestID 0: 15\n",
      "Número de pessoas saudáveis no TestID 1: 15\n",
      "Número de pessoas saudáveis no TestID 2: 0\n",
      "Número de pessoas saudáveis no total: 30\n"
     ]
    }
   ],
   "source": [
    "print(f\"Número de pessoas saudáveis no TestID 0: {listControl_0.shape[0]}\")\n",
    "print(f\"Número de pessoas saudáveis no TestID 1: {listControl_1.shape[0]}\")\n",
    "print(f\"Número de pessoas saudáveis no TestID 2: {listControl_2.shape[0]}\")\n",
    "print(f\"Número de pessoas saudáveis no total: {listControl_0.shape[0]+listControl_1.shape[0]+listControl_2.shape[0]}\")"
   ]
  },
  {
   "cell_type": "code",
   "execution_count": 8,
   "id": "b6d4ca9b",
   "metadata": {},
   "outputs": [
    {
     "name": "stdout",
     "output_type": "stream",
     "text": [
      "Número de pessoas com Parkinson no TestID 0: 61\n",
      "Número de pessoas com Parkinson no TestID 1: 57\n",
      "Número de pessoas com Parkinson no TestID 2: 36\n",
      "Número de pessoas com Parkinson no total: 154\n"
     ]
    }
   ],
   "source": [
    "print(f\"Número de pessoas com Parkinson no TestID 0: {listParkinson_0.shape[0]}\")\n",
    "print(f\"Número de pessoas com Parkinson no TestID 1: {listParkinson_1.shape[0]}\")\n",
    "print(f\"Número de pessoas com Parkinson no TestID 2: {listParkinson_2.shape[0]}\")\n",
    "print(f\"Número de pessoas com Parkinson no total: {listParkinson_0.shape[0]+listParkinson_1.shape[0]+listParkinson_2.shape[0]}\")"
   ]
  },
  {
   "cell_type": "code",
   "execution_count": 9,
   "id": "395b6e40",
   "metadata": {},
   "outputs": [],
   "source": [
    "listPerson = pd.concat([listControl_0, listParkinson_0,listControl_1,listParkinson_1,listControl_2,listParkinson_2])\n",
    "listDiagnoses = np.concatenate([controlDiagnoses_0, parkinsonDiagnoses_0,controlDiagnoses_1,parkinsonDiagnoses_1,controlDiagnoses_2, parkinsonDiagnoses_2])"
   ]
  },
  {
   "cell_type": "code",
   "execution_count": 10,
   "id": "ffcd6436",
   "metadata": {},
   "outputs": [
    {
     "name": "stdout",
     "output_type": "stream",
     "text": [
      "Paciêntes sem Parkinson = 30\n",
      "Paciêntes com Parkinson = 154\n"
     ]
    }
   ],
   "source": [
    "zero = 0\n",
    "um = 0\n",
    "for i in range(len(listDiagnoses)):\n",
    "    if listDiagnoses[i]==0:\n",
    "        zero += 1\n",
    "    else:\n",
    "        um += 1\n",
    "        \n",
    "print(f'Paciêntes sem Parkinson = {zero}')\n",
    "print(f\"Paciêntes com Parkinson = {um}\")"
   ]
  },
  {
   "cell_type": "markdown",
   "id": "5da3bda5",
   "metadata": {},
   "source": [
    "# 5. Applying Oversampling"
   ]
  },
  {
   "cell_type": "code",
   "execution_count": 11,
   "id": "ca1d47fe",
   "metadata": {},
   "outputs": [],
   "source": [
    "ros = RandomOverSampler(random_state=0)\n",
    "ros.fit(listPerson, listDiagnoses)\n",
    "listPerson, listDiagnoses= ros.fit_resample(listPerson, listDiagnoses)"
   ]
  },
  {
   "cell_type": "code",
   "execution_count": 12,
   "id": "6ea2e8c2",
   "metadata": {},
   "outputs": [
    {
     "name": "stdout",
     "output_type": "stream",
     "text": [
      "Paciêntes sem Parkinson = 154\n",
      "Paciêntes com Parkinson = 154\n"
     ]
    }
   ],
   "source": [
    "zero = 0\n",
    "um = 0\n",
    "for i in range(len(listDiagnoses)):\n",
    "    if listDiagnoses[i]==0:\n",
    "        zero += 1\n",
    "    else:\n",
    "        um += 1\n",
    "\n",
    "print(f'Paciêntes sem Parkinson = {zero}')\n",
    "print(f\"Paciêntes com Parkinson = {um}\")"
   ]
  },
  {
   "cell_type": "code",
   "execution_count": 13,
   "id": "de37d6c5",
   "metadata": {},
   "outputs": [],
   "source": [
    "pd.set_option('display.max_rows', None)"
   ]
  },
  {
   "cell_type": "code",
   "execution_count": 14,
   "id": "cba6c310",
   "metadata": {},
   "outputs": [],
   "source": [
    "#display(listPerson)"
   ]
  },
  {
   "cell_type": "markdown",
   "id": "c9194f47",
   "metadata": {},
   "source": [
    "# 6. Applying Normalization"
   ]
  },
  {
   "cell_type": "code",
   "execution_count": 15,
   "id": "bdd0bb35",
   "metadata": {},
   "outputs": [],
   "source": [
    "ss = StandardScaler()\n",
    "listPerson = ss.fit_transform(listPerson, y=listDiagnoses)"
   ]
  },
  {
   "cell_type": "code",
   "execution_count": 16,
   "id": "50faa970",
   "metadata": {},
   "outputs": [],
   "source": [
    "listPerson = pd.DataFrame(listPerson, columns = ['velocityWeighted','pressureWeighted','CISP'])"
   ]
  },
  {
   "cell_type": "code",
   "execution_count": 17,
   "id": "e6cfdd19",
   "metadata": {},
   "outputs": [],
   "source": [
    "#display(listPerson)"
   ]
  },
  {
   "cell_type": "markdown",
   "id": "2efca45c",
   "metadata": {},
   "source": [
    "# 7. Process of Classifying"
   ]
  },
  {
   "cell_type": "markdown",
   "id": "30357ed2",
   "metadata": {},
   "source": [
    "### 7.1. Classification Algorithms Used:\n",
    "\n",
    "- K-Nearest Neighbors\n",
    "- Decision Tree\n",
    "- Random Forest"
   ]
  },
  {
   "cell_type": "code",
   "execution_count": null,
   "id": "b6d7b9d2",
   "metadata": {},
   "outputs": [
    {
     "name": "stdout",
     "output_type": "stream",
     "text": [
      "[5, 28, 52, 76, 100]\n"
     ]
    }
   ],
   "source": [
    "rfc = RandomForestClassifier()\n",
    "# Number of trees in random forest\n",
    "n_tree = [int(x) for x in np.linspace(start = 5, stop = 100, num = 5)]\n",
    "# To measure the quality of a split\n",
    "criterion = ['gini', 'entropy', 'log_loss']\n",
    "# Number of features to consider at every split\n",
    "max_features = ['sqrt', 'log2', None]\n",
    "# Method of selecting samples for training each tree\n",
    "bootstrap = [True, False]\n",
    "# Create the random grid\n",
    "param_grid = {'n_estimators': n_tree,\n",
    "              'criterion': criterion,\n",
    "              'max_features': max_features,\n",
    "              'bootstrap': bootstrap}\n",
    "print(n_tree)\n",
    "grid_search = GridSearchCV(estimator = rfc, param_grid = param_grid,cv = 3)\n",
    "grid_search.fit(listPerson,listDiagnoses)\n",
    "print(grid_search.best_params_)"
   ]
  },
  {
   "cell_type": "code",
   "execution_count": null,
   "id": "a1c02542",
   "metadata": {},
   "outputs": [],
   "source": [
    "knnc = KNeighborsClassifier()\n",
    "cartc = DecisionTreeClassifier()\n",
    "rfc = RandomForestClassifier()"
   ]
  },
  {
   "cell_type": "markdown",
   "id": "7d32f31c",
   "metadata": {},
   "source": [
    "### 7.2. Applying Cross-Validation to Split the Data"
   ]
  },
  {
   "cell_type": "code",
   "execution_count": null,
   "id": "04bbfb47",
   "metadata": {},
   "outputs": [],
   "source": [
    "#n_splits = len(listPerson)\n",
    "n_splits = 10"
   ]
  },
  {
   "cell_type": "code",
   "execution_count": null,
   "id": "29f51c24",
   "metadata": {},
   "outputs": [],
   "source": [
    "kf = KFold(n_splits=n_splits,shuffle=True)"
   ]
  },
  {
   "cell_type": "code",
   "execution_count": null,
   "id": "3ef8fe49",
   "metadata": {},
   "outputs": [],
   "source": [
    "kf.get_n_splits()"
   ]
  },
  {
   "cell_type": "markdown",
   "id": "30c2c4c2",
   "metadata": {},
   "source": [
    "### 7.3. Training and Testing Phase"
   ]
  },
  {
   "cell_type": "code",
   "execution_count": null,
   "id": "eabda60c",
   "metadata": {},
   "outputs": [],
   "source": [
    "TP_TN_FP_FN = np.zeros((3,4))\n",
    "\n",
    "diagnoses = []\n",
    "guesseddiagnosesknn = []\n",
    "guesseddiagnosesdt = []\n",
    "guesseddiagnosesrf = []\n",
    "\n",
    "for train_index, test_index in kf.split(listPerson,y=listDiagnoses):\n",
    "    #print(\"TRAIN:\", train_index, \"TEST:\", test_index)\n",
    "    x_train, x_test = listPerson.iloc[train_index], listPerson.iloc[test_index]\n",
    "    y_train, y_test = listDiagnoses[train_index], listDiagnoses[test_index]\n",
    "    \n",
    "    \n",
    "    knnc_trained = knnc.fit(x_train, y_train)\n",
    "    cartc_trained = cartc.fit(x_train, y_train)\n",
    "    rfc_trained = rfc.fit(x_train, y_train)\n",
    "    \n",
    "    \n",
    "    \n",
    "    modelsc = [knnc_trained, cartc_trained, rfc_trained]\n",
    "\n",
    "    j = 0\n",
    "    diagnoses.append(y_test[:])\n",
    "    for model in modelsc:\n",
    "        predict = model.predict(x_test)\n",
    "        if model == modelsc[0]:\n",
    "            guesseddiagnosesknn.append(model.predict(x_test))\n",
    "        elif model == modelsc[1]:\n",
    "            guesseddiagnosesdt.append(model.predict(x_test))\n",
    "        else:\n",
    "            guesseddiagnosesrf.append(model.predict(x_test))\n",
    "        \n",
    "        for i in range(y_test.shape[0]):\n",
    "            if y_test[i] == 0 and predict[i] == 0:\n",
    "                TP_TN_FP_FN[j][1] +=1\n",
    "            elif y_test[i] == 1 and predict[i] == 1:\n",
    "                TP_TN_FP_FN[j][0] +=1\n",
    "            elif y_test[i] == 1 and predict[i] == 0:\n",
    "                TP_TN_FP_FN[j][3] +=1\n",
    "            elif y_test[i] == 0 and predict[i] == 1:\n",
    "                TP_TN_FP_FN[j][2] +=1\n",
    "        j+=1\n",
    "        #acc.append((TP+TN)/(TP+TN+FN+FP)*100)\n",
    "        #sens.append((TP)/(TP+FN)*100)\n",
    "        #esp.append((TN)/(TN+FP)*100)\n",
    "    \n"
   ]
  },
  {
   "cell_type": "markdown",
   "id": "3cb293a7",
   "metadata": {},
   "source": [
    "### 7.4. Computing Results"
   ]
  },
  {
   "cell_type": "markdown",
   "id": "cf083f3e",
   "metadata": {},
   "source": [
    "##### 7.4.1 Accuracy, Sensibility and Specificity Result"
   ]
  },
  {
   "cell_type": "code",
   "execution_count": null,
   "id": "d7c17980",
   "metadata": {},
   "outputs": [],
   "source": [
    "acc = np.empty(3)\n",
    "sens = np.empty(3)\n",
    "esp = np.empty(3)\n",
    "for i in range(3):\n",
    "    TP,TN,FP,FN = TP_TN_FP_FN[i]\n",
    "    acc[i] = ((TP+TN)/(TP+TN+FN+FP)*100)\n",
    "    sens[i] = ((TP)/(TP+FN)*100)\n",
    "    esp[i] = ((TN)/(TN+FP)*100)"
   ]
  },
  {
   "cell_type": "code",
   "execution_count": null,
   "id": "7a027152",
   "metadata": {},
   "outputs": [],
   "source": [
    "mod = ['KNN','DecisionTree','RandomForest']\n",
    "nam = ['acurácia','sensibilidade','especificidade']\n",
    "for i in range(3):\n",
    "    print(f'{mod[i]} sua {nam[0]} é de {np.round(acc[i],2)}%')\n",
    "for i in range(3):\n",
    "    print(f'{mod[i]} sua {nam[1]} é de {np.round(sens[i],2)}%')\n",
    "for i in range(3):\n",
    "    print(f'{mod[i]} sua {nam[2]} é de {np.round(esp[i],2)}%')"
   ]
  },
  {
   "cell_type": "markdown",
   "id": "bf6c114d",
   "metadata": {},
   "source": [
    "##### 7.4.2. Confusion Matrix Result"
   ]
  },
  {
   "cell_type": "markdown",
   "id": "dbaf7ebe",
   "metadata": {},
   "source": [
    "##### K-Nearest Neighbors"
   ]
  },
  {
   "cell_type": "code",
   "execution_count": null,
   "id": "60d6020a",
   "metadata": {},
   "outputs": [],
   "source": [
    "cm_knn = [[0,0],[0,0]]\n",
    "for i in range(len(diagnoses)):\n",
    "    cm_knn += confusion_matrix(diagnoses[i],guesseddiagnosesknn[i])"
   ]
  },
  {
   "cell_type": "code",
   "execution_count": null,
   "id": "11247c90",
   "metadata": {},
   "outputs": [],
   "source": [
    "disp_knn = ConfusionMatrixDisplay(cm_knn)\n",
    "disp_knn.plot()\n",
    "plt.show()"
   ]
  },
  {
   "cell_type": "markdown",
   "id": "cc90f1dd",
   "metadata": {},
   "source": [
    "##### Decision Tree"
   ]
  },
  {
   "cell_type": "code",
   "execution_count": null,
   "id": "e05a8b0e",
   "metadata": {},
   "outputs": [],
   "source": [
    "cm_dt = [[0,0],[0,0]]\n",
    "for i in range(len(diagnoses)):\n",
    "    cm_dt += confusion_matrix(diagnoses[i],guesseddiagnosesdt[i])"
   ]
  },
  {
   "cell_type": "code",
   "execution_count": null,
   "id": "953ec54c",
   "metadata": {},
   "outputs": [],
   "source": [
    "disp_dt = ConfusionMatrixDisplay(cm_dt)\n",
    "disp_dt.plot()\n",
    "plt.show()"
   ]
  },
  {
   "cell_type": "markdown",
   "id": "35d5ab94",
   "metadata": {},
   "source": [
    "##### Random Forest"
   ]
  },
  {
   "cell_type": "code",
   "execution_count": null,
   "id": "a6ffa7c9",
   "metadata": {},
   "outputs": [],
   "source": [
    "cm_rf = [[0,0],[0,0]]\n",
    "for i in range(len(diagnoses)):\n",
    "    cm_rf += confusion_matrix(diagnoses[i],guesseddiagnosesrf[i])"
   ]
  },
  {
   "cell_type": "code",
   "execution_count": null,
   "id": "c8533d51",
   "metadata": {},
   "outputs": [],
   "source": [
    "disp_rf = ConfusionMatrixDisplay(cm_rf)\n",
    "disp_rf.plot()\n",
    "plt.show()"
   ]
  },
  {
   "cell_type": "markdown",
   "id": "3b8f80d0",
   "metadata": {},
   "source": [
    "##### 7.4.3. Learning Curve Result"
   ]
  },
  {
   "cell_type": "code",
   "execution_count": null,
   "id": "5b1c4e5b",
   "metadata": {},
   "outputs": [],
   "source": [
    "#KNN\n",
    "kn_train_sizes, kn_train_scores, kn_test_scores = learning_curve(KNeighborsClassifier(), x_train, y_train, cv = 10, scoring='accuracy', n_jobs=-1, train_sizes=np.linspace(0.01, 1, 50), verbose=1)\n",
    "\n",
    "#DecisionTree\n",
    "dt_train_sizes, dt_train_scores, dt_test_scores = learning_curve(DecisionTreeClassifier(), x_train, y_train, cv = 10, scoring='accuracy', n_jobs=-1, train_sizes=np.linspace(0.01, 1, 50), verbose=1)\n",
    "\n",
    "#RandomForest\n",
    "rf_train_sizes, rf_train_scores, rf_test_scores = learning_curve(RandomForestClassifier(), x_train, y_train, cv = 10, scoring='accuracy', n_jobs=-1, train_sizes=np.linspace(0.01, 1, 50), verbose=1)\n"
   ]
  },
  {
   "cell_type": "code",
   "execution_count": null,
   "id": "a7295529",
   "metadata": {},
   "outputs": [],
   "source": [
    "#KNN\n",
    "kn_train_mean = np.mean(kn_train_scores, axis=1)\n",
    "kn_train_mean\n",
    "\n",
    "kn_train_std = np.std(kn_train_scores, axis=1)\n",
    "kn_train_std\n",
    "\n",
    "kn_test_mean = np.mean(kn_test_scores, axis=1)\n",
    "kn_test_mean\n",
    "\n",
    "kn_test_std = np.std(kn_test_scores, axis=1)\n",
    "kn_test_std\n",
    "\n",
    "#DecisionTree\n",
    "dt_train_mean = np.mean(dt_train_scores, axis=1)\n",
    "dt_train_mean\n",
    "\n",
    "dt_train_std = np.std(dt_train_scores, axis=1)\n",
    "dt_train_std\n",
    "\n",
    "dt_test_mean = np.mean(dt_test_scores, axis=1)\n",
    "dt_test_mean\n",
    "\n",
    "dt_test_std = np.std(dt_test_scores, axis=1)\n",
    "dt_test_std\n",
    "\n",
    "#RandomForest\n",
    "rf_train_mean = np.mean(rf_train_scores, axis=1)\n",
    "rf_train_mean\n",
    "\n",
    "rf_train_std = np.std(rf_train_scores, axis=1)\n",
    "rf_train_std\n",
    "\n",
    "rf_test_mean = np.mean(rf_test_scores, axis=1)\n",
    "rf_test_mean\n",
    "\n",
    "rf_test_std = np.std(rf_test_scores, axis=1)\n",
    "rf_test_std\n"
   ]
  },
  {
   "cell_type": "code",
   "execution_count": null,
   "id": "421aa4e0",
   "metadata": {},
   "outputs": [],
   "source": [
    "#KNN\n",
    "plt.plot(kn_train_sizes, kn_train_mean, label='Training Score')\n",
    "plt.plot(kn_train_sizes, kn_test_mean, label='Cross-Validation Score')\n",
    "\n",
    "plt.fill_between(kn_train_sizes, kn_train_mean-kn_train_std, kn_train_mean+kn_train_std, color='#DDDDDD')\n",
    "plt.fill_between(kn_train_sizes, kn_test_mean-kn_test_std, kn_test_mean+kn_test_std, color='#DDDDDD')\n",
    "\n",
    "plt.title('Learning Curve')\n",
    "plt.xlabel('Training Size')\n",
    "plt.ylabel('Accuracy Score')\n",
    "plt.legend(loc = 'best')\n"
   ]
  },
  {
   "cell_type": "code",
   "execution_count": null,
   "id": "0021a36d",
   "metadata": {},
   "outputs": [],
   "source": [
    "#DecisionTree\n",
    "plt.plot(dt_train_sizes, dt_train_mean, label='Training Score')\n",
    "plt.plot(dt_train_sizes, dt_test_mean, label='Cross-Validation Score')\n",
    "\n",
    "plt.fill_between(dt_train_sizes, dt_train_mean-dt_train_std, dt_train_mean+dt_train_std, color='#DDDDDD')\n",
    "plt.fill_between(dt_train_sizes, dt_test_mean-dt_test_std, dt_test_mean+dt_test_std, color='#DDDDDD')\n",
    "\n",
    "plt.title('Learning Curve')\n",
    "plt.xlabel('Training Size')\n",
    "plt.ylabel('Accuracy Score')\n",
    "plt.legend(loc = 'best')\n"
   ]
  },
  {
   "cell_type": "code",
   "execution_count": null,
   "id": "461214e4",
   "metadata": {},
   "outputs": [],
   "source": [
    "#RandomForest\n",
    "plt.plot(rf_train_sizes, rf_train_mean, label='Training Score')\n",
    "plt.plot(rf_train_sizes, rf_test_mean, label='Cross-Validation Score')\n",
    "\n",
    "plt.fill_between(rf_train_sizes, rf_train_mean-rf_train_std, rf_train_mean+rf_train_std, color='#DDDDDD')\n",
    "plt.fill_between(rf_train_sizes, rf_test_mean-rf_test_std, rf_test_mean+rf_test_std, color='#DDDDDD')\n",
    "\n",
    "plt.title('Learning Curve')\n",
    "plt.xlabel('Training Size')\n",
    "plt.ylabel('Accuracy Score')\n",
    "plt.legend(loc = 'best')"
   ]
  }
 ],
 "metadata": {
  "kernelspec": {
   "display_name": "Python 3 (ipykernel)",
   "language": "python",
   "name": "python3"
  },
  "language_info": {
   "codemirror_mode": {
    "name": "ipython",
    "version": 3
   },
   "file_extension": ".py",
   "mimetype": "text/x-python",
   "name": "python",
   "nbconvert_exporter": "python",
   "pygments_lexer": "ipython3",
   "version": "3.10.4"
  },
  "vscode": {
   "interpreter": {
    "hash": "db40f5372adfa9b0f477c9b1f870b0f4c50b48677941ec10523a213c2a79f5ae"
   }
  }
 },
 "nbformat": 4,
 "nbformat_minor": 5
}
